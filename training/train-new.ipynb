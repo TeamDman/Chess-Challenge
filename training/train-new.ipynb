{
 "cells": [
  {
   "cell_type": "code",
   "execution_count": 102,
   "metadata": {},
   "outputs": [],
   "source": [
    "import sqlite3\n",
    "db = sqlite3.connect('../datasets/new.db')"
   ]
  },
  {
   "cell_type": "code",
   "execution_count": 103,
   "metadata": {},
   "outputs": [
    {
     "name": "stdout",
     "output_type": "stream",
     "text": [
      "37164639\n"
     ]
    }
   ],
   "source": [
    "LABEL_COUNT = db.execute(\"\"\"SELECT COUNT(1) FROM Evaluations\"\"\").fetchone()[0]\n",
    "print(LABEL_COUNT)"
   ]
  },
  {
   "cell_type": "code",
   "execution_count": 104,
   "metadata": {},
   "outputs": [],
   "source": [
    "BATCH_SIZE = 10240"
   ]
  },
  {
   "cell_type": "code",
   "execution_count": 115,
   "metadata": {},
   "outputs": [],
   "source": [
    "from torch.utils.data import IterableDataset\n",
    "import random\n",
    "\n",
    "def bytes_to_i8_list(bytes_obj):\n",
    "    return [(b if b < 128 else b - 256) for b in bytes_obj]\n",
    "\n",
    "class EvaluationDataset(IterableDataset):\n",
    "    def __init__(self, db: sqlite3.Connection, count: int, batch_size: int):\n",
    "        self.db = db\n",
    "        self.batch_size = batch_size\n",
    "        self.batch_starts = list(range(0, count, self.batch_size))\n",
    "        self.remaining_batches = list(self.batch_starts)\n",
    "\n",
    "    def __iter__(self):\n",
    "        return self \n",
    "\n",
    "    def __len__(self):\n",
    "        return len(self.batch_starts)\n",
    "    \n",
    "    def reset(self):\n",
    "        self.remaining_batches = list(self.batch_starts)\n",
    "\n",
    "    \n",
    "\n",
    "    def __next__(self):\n",
    "        if len(self.remaining_batches)==0:\n",
    "            # all batches sampled, reset the remaining_batches list\n",
    "            self.reset()\n",
    "\n",
    "        # pick a random batch index from the remaining list and remove it\n",
    "        batch_index = random.sample(self.remaining_batches, 1)[0]\n",
    "        self.remaining_batches.remove(batch_index)\n",
    "\n",
    "        rows = self.db.execute(\"\"\"\n",
    "            SELECT\n",
    "                input_tensor,\n",
    "                eval_for_white\n",
    "            FROM Evaluations\n",
    "            LIMIT ? OFFSET ?\n",
    "        \"\"\", (self.batch_size, batch_index)).fetchall()\n",
    "        batch = {\n",
    "            'input_tensors': torch.as_tensor([bytes_to_i8_list(row[0]) for row in rows], dtype=torch.float16),\n",
    "            'evals_for_white': torch.as_tensor([row[1] for row in rows], dtype=torch.float16),\n",
    "        }\n",
    "        return batch\n",
    "    \n",
    "dataset = EvaluationDataset(db, LABEL_COUNT, BATCH_SIZE)"
   ]
  },
  {
   "cell_type": "code",
   "execution_count": 116,
   "metadata": {},
   "outputs": [
    {
     "data": {
      "text/plain": [
       "dict_keys(['input_tensors', 'evals_for_white'])"
      ]
     },
     "execution_count": 116,
     "metadata": {},
     "output_type": "execute_result"
    }
   ],
   "source": [
    "next(dataset).keys()"
   ]
  },
  {
   "cell_type": "code",
   "execution_count": 117,
   "metadata": {},
   "outputs": [],
   "source": [
    "dataset.reset()"
   ]
  },
  {
   "cell_type": "code",
   "execution_count": 118,
   "metadata": {},
   "outputs": [],
   "source": [
    "from torch.utils.data import DataLoader\n",
    "dataloader = DataLoader(\n",
    "    dataset,\n",
    "    batch_size=None, # we batch in the dataset\n",
    "    # num_workers=12,\n",
    "    pin_memory=True,\n",
    ")"
   ]
  },
  {
   "cell_type": "code",
   "execution_count": 119,
   "metadata": {},
   "outputs": [],
   "source": [
    "import pytorch_lightning as pl\n",
    "import torch.nn.functional as F\n",
    "import torch\n",
    "from torch import nn\n",
    "from collections import OrderedDict\n",
    "\n",
    "class EvaluationModel(pl.LightningModule):\n",
    "    def __init__(\n",
    "        self,\n",
    "        dataloader: DataLoader,\n",
    "        learning_rate: float,\n",
    "    ):\n",
    "        super().__init__()\n",
    "        self.dataloader = dataloader\n",
    "        self.learning_rate = learning_rate\n",
    "        \n",
    "        # Define the layer sizes\n",
    "        layer_sizes = [65, 32, 30, 21, 1]\n",
    "        \n",
    "        layers = []\n",
    "        for i in range(len(layer_sizes) - 1):\n",
    "            layers.append((f\"linear-{i}\", nn.Linear(layer_sizes[i], layer_sizes[i + 1])))\n",
    "            \n",
    "            # We don't want ReLU activation after the last linear layer\n",
    "            if i != len(layer_sizes) - 2:\n",
    "                layers.append((f\"relu-{i}\", nn.ReLU()))\n",
    "                \n",
    "        self.seq = nn.Sequential(OrderedDict(layers))\n",
    "\n",
    "    def forward(self, x):\n",
    "        return self.seq(x)\n",
    "\n",
    "    def training_step(self, batch):\n",
    "        x, y = batch['input_tensors'], batch['evals_for_white']\n",
    "        y_hat = self(x)\n",
    "        loss = F.l1_loss(y_hat, y)\n",
    "        self.log(\"train_loss\", loss)\n",
    "        return loss\n",
    "\n",
    "    def configure_optimizers(self):\n",
    "        return torch.optim.Adam(self.parameters(), lr=self.learning_rate)\n",
    "\n",
    "    def train_dataloader(self):\n",
    "        return self.dataloader"
   ]
  },
  {
   "cell_type": "code",
   "execution_count": 120,
   "metadata": {},
   "outputs": [],
   "source": [
    "model = EvaluationModel(\n",
    "    dataloader, \n",
    "    learning_rate=1e-3,\n",
    ").to(\"cuda\")"
   ]
  },
  {
   "cell_type": "code",
   "execution_count": 121,
   "metadata": {},
   "outputs": [
    {
     "name": "stdout",
     "output_type": "stream",
     "text": [
      "Loading latest checkpoint: models\\model2-withturn-1690439187.pt\n"
     ]
    }
   ],
   "source": [
    "from pathlib import Path\n",
    "\n",
    "checkpoint_dir = Path(\"models\")\n",
    "checkpoint_dir.mkdir(exist_ok=True)\n",
    "found = sorted(list(checkpoint_dir.glob(\"*\")))\n",
    "if len(found) > 0:\n",
    "    latest = found[-1]\n",
    "    print(\"Loading latest checkpoint:\", latest)\n",
    "    model.load_state_dict(torch.load(latest))"
   ]
  },
  {
   "cell_type": "code",
   "execution_count": 122,
   "metadata": {},
   "outputs": [
    {
     "name": "stderr",
     "output_type": "stream",
     "text": [
      "Using 16bit Automatic Mixed Precision (AMP)\n",
      "GPU available: True (cuda), used: True\n",
      "TPU available: False, using: 0 TPU cores\n",
      "IPU available: False, using: 0 IPUs\n",
      "HPU available: False, using: 0 HPUs\n"
     ]
    }
   ],
   "source": [
    "import time\n",
    "version_name = f'{int(time.time())}-batch_size-{BATCH_SIZE}'\n",
    "logger = pl.loggers.TensorBoardLogger(\n",
    "    \"lightning_logs\",\n",
    "    name=\"chess\",\n",
    "    version=version_name,\n",
    ")\n",
    "\n",
    "trainer = pl.Trainer(\n",
    "    accelerator=\"gpu\",\n",
    "    devices=-1,\n",
    "    precision=\"16-mixed\",\n",
    "    max_epochs=1,\n",
    "    logger=logger,\n",
    ")"
   ]
  },
  {
   "cell_type": "code",
   "execution_count": 123,
   "metadata": {},
   "outputs": [
    {
     "data": {
      "text/plain": [
       "Reusing TensorBoard on port 6006 (pid 20068), started 0:10:54 ago. (Use '!kill 20068' to kill it.)"
      ]
     },
     "metadata": {},
     "output_type": "display_data"
    },
    {
     "data": {
      "text/html": [
       "\n",
       "      <iframe id=\"tensorboard-frame-5b2e4a954ea37b9d\" width=\"100%\" height=\"800\" frameborder=\"0\">\n",
       "      </iframe>\n",
       "      <script>\n",
       "        (function() {\n",
       "          const frame = document.getElementById(\"tensorboard-frame-5b2e4a954ea37b9d\");\n",
       "          const url = new URL(\"http://localhost\");\n",
       "          const port = 6006;\n",
       "          if (port) {\n",
       "            url.port = port;\n",
       "          }\n",
       "          frame.src = url;\n",
       "        })();\n",
       "      </script>\n",
       "    "
      ],
      "text/plain": [
       "<IPython.core.display.HTML object>"
      ]
     },
     "metadata": {},
     "output_type": "display_data"
    }
   ],
   "source": [
    "# Start tensorboard.\n",
    "%reload_ext tensorboard\n",
    "%tensorboard --logdir lightning_logs/"
   ]
  },
  {
   "cell_type": "code",
   "execution_count": 154,
   "metadata": {},
   "outputs": [
    {
     "name": "stderr",
     "output_type": "stream",
     "text": [
      "c:\\Users\\TeamD\\.conda\\envs\\chess2\\lib\\site-packages\\pytorch_lightning\\callbacks\\model_checkpoint.py:615: UserWarning: Checkpoint directory lightning_logs\\chess\\1690567352-batch_size-10240\\checkpoints exists and is not empty.\n",
      "  rank_zero_warn(f\"Checkpoint directory {dirpath} exists and is not empty.\")\n",
      "LOCAL_RANK: 0 - CUDA_VISIBLE_DEVICES: [0]\n",
      "\n",
      "  | Name | Type       | Params\n",
      "------------------------------------\n",
      "0 | seq  | Sequential | 3.8 K \n",
      "------------------------------------\n",
      "3.8 K     Trainable params\n",
      "0         Non-trainable params\n",
      "3.8 K     Total params\n",
      "0.015     Total estimated model params size (MB)\n",
      "c:\\Users\\TeamD\\.conda\\envs\\chess2\\lib\\site-packages\\pytorch_lightning\\trainer\\connectors\\data_connector.py:432: PossibleUserWarning: The dataloader, train_dataloader, does not have many workers which may be a bottleneck. Consider increasing the value of the `num_workers` argument` (try 12 which is the number of cpus on this machine) in the `DataLoader` init to improve performance.\n",
      "  rank_zero_warn(\n",
      "`Trainer.fit` stopped: `max_epochs=1` reached.\n"
     ]
    }
   ],
   "source": [
    "trainer.fit(model)"
   ]
  },
  {
   "cell_type": "code",
   "execution_count": 125,
   "metadata": {},
   "outputs": [],
   "source": [
    "torch.save(model.state_dict(), checkpoint_dir / f\"model3-normevalbetterloader-{int(time.time())}.pt\")"
   ]
  },
  {
   "cell_type": "code",
   "execution_count": 162,
   "metadata": {},
   "outputs": [
    {
     "name": "stdout",
     "output_type": "stream",
     "text": [
      "accuracy 0.4807\n"
     ]
    }
   ],
   "source": [
    "test = db.execute(\n",
    "    \"\"\"\n",
    "        SELECT\n",
    "            id,\n",
    "            fen,\n",
    "            input_tensor,\n",
    "            eval_for_white\n",
    "        FROM Evaluations\n",
    "        LIMIT ?\n",
    "        OFFSET ?\n",
    "    \"\"\",\n",
    "    (\n",
    "        10000,\n",
    "        random.randrange(LABEL_COUNT)\n",
    "    ),\n",
    ").fetchall()\n",
    "\n",
    "def fen_as_input(fen: str):\n",
    "    import numpy as np\n",
    "    import chess\n",
    "    board = chess.Board(fen)\n",
    "    inputs = np.zeros(65, dtype=np.float16)\n",
    "    for i in range(64):\n",
    "        piece = board.piece_at(i)\n",
    "        if piece is not None:\n",
    "            inputs[i] = piece.piece_type * (1 if piece.color == chess.WHITE else -1)\n",
    "    inputs[64] = 1 if board.turn == chess.WHITE else -1 # forgor this earlier ☠\n",
    "    return inputs\n",
    "\n",
    "import chess\n",
    "from IPython.display import display\n",
    "\n",
    "stats = []\n",
    "for row in test:\n",
    "    id, fen, input_tensor, eval_for_white = row\n",
    "    x = torch.as_tensor([bytes_to_i8_list(input_tensor)], dtype=torch.float32)\n",
    "    y = eval_for_white\n",
    "    y_pred = model(x)*10\n",
    "    # print(fen)\n",
    "    # print(\"expected\", y)\n",
    "    # print(\"predicted\", y_pred.item())\n",
    "    matches = (y_pred.item() > 0) == (y > 0)\n",
    "    # print(\"sign matches\", matches)\n",
    "    stats.append(matches)\n",
    "    # board = chess.Board(fen)\n",
    "    # display(board)\n",
    "print(\"accuracy\", sum(stats)/len(stats))\n"
   ]
  },
  {
   "cell_type": "code",
   "execution_count": null,
   "metadata": {},
   "outputs": [],
   "source": [
    "import chess\n",
    "import chess.engine\n",
    "\n",
    "# board = chess.Board(chess.STARTING_BOARD_FEN)\n",
    "board = chess.Board(eval.fen)\n",
    "# board.push_san(\"e4\")\n",
    "\n",
    "engine = chess.engine.SimpleEngine.popen_uci(r\"..\\..\\stockfish-windows-x86-64-avx2\\stockfish\\stockfish-windows-x86-64-avx2.exe\")\n",
    "info = engine.analyse(board, chess.engine.Limit(time=10.0))\n",
    "print(info[\"score\"])\n",
    "\n",
    "# print(model(torch.from_numpy(fen_as_input(board.fen())).float().cuda()))\n",
    "board"
   ]
  }
 ],
 "metadata": {
  "kernelspec": {
   "display_name": "chess",
   "language": "python",
   "name": "python3"
  },
  "language_info": {
   "codemirror_mode": {
    "name": "ipython",
    "version": 3
   },
   "file_extension": ".py",
   "mimetype": "text/x-python",
   "name": "python",
   "nbconvert_exporter": "python",
   "pygments_lexer": "ipython3",
   "version": "3.10.12"
  },
  "orig_nbformat": 4
 },
 "nbformat": 4,
 "nbformat_minor": 2
}
