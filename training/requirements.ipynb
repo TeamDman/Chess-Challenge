{
 "cells": [
  {
   "cell_type": "markdown",
   "metadata": {},
   "source": [
    "# PIP dependencies"
   ]
  },
  {
   "cell_type": "code",
   "execution_count": null,
   "metadata": {},
   "outputs": [],
   "source": [
    "%pip3 install torch torchvision torchaudio --index-url https://download.pytorch.org/whl/cu118\n",
    "%pip3 install peewee pytorch-lightning\n",
    "\n",
    "# not sure if tensorboardx is needed\n",
    "%pip3 install peewee pytorch-lightning tensorboard tensorboardx\n",
    "\n",
    "%pip3 install chess\n",
    "\n",
    "# performance profiling\n",
    "%pip install scalene"
   ]
  },
  {
   "cell_type": "markdown",
   "metadata": {},
   "source": [
    "# Dataset downloading"
   ]
  },
  {
   "cell_type": "code",
   "execution_count": null,
   "metadata": {},
   "outputs": [],
   "source": [
    "!wget https://storage.googleapis.com/chesspic/datasets/2021-07-31-lichess-evaluations-37MM.db.gz\n",
    "!gzip -d \"2021-07-31-lichess-evaluations-37MM.db.gz\"\n",
    "!rm \"2021-07-31-lichess-evaluations-37MM.db.gz\""
   ]
  }
 ],
 "metadata": {
  "language_info": {
   "name": "python"
  },
  "orig_nbformat": 4
 },
 "nbformat": 4,
 "nbformat_minor": 2
}
