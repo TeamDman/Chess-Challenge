{
 "cells": [
  {
   "cell_type": "code",
   "execution_count": 1,
   "metadata": {},
   "outputs": [],
   "source": [
    "import sqlite3\n",
    "import numpy as np\n",
    "import chess\n",
    "\n",
    "# Function to convert FEN to input tensor\n",
    "def fen_as_input(fen: str):\n",
    "    board = chess.Board(fen)\n",
    "    inputs = np.zeros(65, dtype=np.float16)\n",
    "    for i in range(64):\n",
    "        piece = board.piece_at(i)\n",
    "        if piece is not None:\n",
    "            inputs[i] = piece.piece_type * (1 if piece.color == chess.WHITE else -1)\n",
    "    inputs[64] = 1 if board.turn == chess.WHITE else -1 # forgor this earlier ☠\n",
    "    return inputs.tobytes()  # convert tensor to bytes\n",
    "\n",
    "# Function to normalize eval field\n",
    "def normalize_eval(eval):\n",
    "    return max(min(eval / 10.0, 1.5), -1.5)"
   ]
  },
  {
   "cell_type": "code",
   "execution_count": 2,
   "metadata": {},
   "outputs": [],
   "source": [
    "# Connect to existing DB using sqlite3\n",
    "old_db = sqlite3.connect(\"../datasets/2021-07-31-lichess-evaluations-37MM.db/test.db\")\n",
    "\n",
    "# Connect to new DB using sqlite3\n",
    "new_db = sqlite3.connect('new.db')"
   ]
  },
  {
   "cell_type": "code",
   "execution_count": 3,
   "metadata": {},
   "outputs": [
    {
     "data": {
      "text/plain": [
       "<sqlite3.Cursor at 0x2c3727dca40>"
      ]
     },
     "execution_count": 3,
     "metadata": {},
     "output_type": "execute_result"
    }
   ],
   "source": [
    "# Create table in new DB\n",
    "new_db.execute(\"\"\"\n",
    "    CREATE TABLE Evaluations (\n",
    "        id INTEGER PRIMARY KEY,\n",
    "        fen TEXT NOT NULL,\n",
    "        input_tensor BLOB NOT NULL,\n",
    "        eval_for_white REAL NOT NULL\n",
    "    )\n",
    "\"\"\")"
   ]
  },
  {
   "cell_type": "code",
   "execution_count": 4,
   "metadata": {},
   "outputs": [
    {
     "ename": "KeyboardInterrupt",
     "evalue": "",
     "output_type": "error",
     "traceback": [
      "\u001b[1;31m---------------------------------------------------------------------------\u001b[0m",
      "\u001b[1;31mKeyboardInterrupt\u001b[0m                         Traceback (most recent call last)",
      "Cell \u001b[1;32mIn[4], line 4\u001b[0m\n\u001b[0;32m      2\u001b[0m old_data \u001b[39m=\u001b[39m old_db\u001b[39m.\u001b[39mexecute(\u001b[39m\"\u001b[39m\u001b[39mSELECT id, fen, eval FROM Evaluations\u001b[39m\u001b[39m\"\u001b[39m)\n\u001b[0;32m      3\u001b[0m \u001b[39mfor\u001b[39;00m \u001b[39mid\u001b[39m, fen, \u001b[39meval\u001b[39m \u001b[39min\u001b[39;00m old_data:\n\u001b[1;32m----> 4\u001b[0m     new_db\u001b[39m.\u001b[39;49mexecute(\u001b[39m\"\"\"\u001b[39;49m\n\u001b[0;32m      5\u001b[0m \u001b[39m        INSERT INTO Evaluations (id, fen, input_tensor, eval_for_white)\u001b[39;49m\n\u001b[0;32m      6\u001b[0m \u001b[39m        VALUES (?, ?, ?, ?)\u001b[39;49m\n\u001b[0;32m      7\u001b[0m \u001b[39m    \u001b[39;49m\u001b[39m\"\"\"\u001b[39;49m, (\u001b[39mid\u001b[39;49m, fen, fen_as_input(fen), normalize_eval(\u001b[39meval\u001b[39;49m)))\n",
      "\u001b[1;31mKeyboardInterrupt\u001b[0m: "
     ]
    }
   ],
   "source": [
    "# Fetch data from old DB and insert into new DB\n",
    "old_data = old_db.execute(\"SELECT id, fen, eval FROM Evaluations\")\n",
    "for id, fen, eval in old_data:\n",
    "    new_db.execute(\"\"\"\n",
    "        INSERT INTO Evaluations (id, fen, input_tensor, eval_for_white)\n",
    "        VALUES (?, ?, ?, ?)\n",
    "    \"\"\", (id, fen, fen_as_input(fen), normalize_eval(eval)))"
   ]
  },
  {
   "cell_type": "code",
   "execution_count": 5,
   "metadata": {},
   "outputs": [],
   "source": [
    "# Commit changes and close connection\n",
    "new_db.commit()\n",
    "new_db.close()"
   ]
  }
 ],
 "metadata": {
  "kernelspec": {
   "display_name": "chess2",
   "language": "python",
   "name": "python3"
  },
  "language_info": {
   "codemirror_mode": {
    "name": "ipython",
    "version": 3
   },
   "file_extension": ".py",
   "mimetype": "text/x-python",
   "name": "python",
   "nbconvert_exporter": "python",
   "pygments_lexer": "ipython3",
   "version": "3.10.12"
  },
  "orig_nbformat": 4
 },
 "nbformat": 4,
 "nbformat_minor": 2
}
